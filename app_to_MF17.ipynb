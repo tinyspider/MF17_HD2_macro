{
 "cells": [
  {
   "cell_type": "code",
   "execution_count": 38,
   "metadata": {},
   "outputs": [],
   "source": [
    "key_length = 60 #each key pressed for 60 ms, minimal 50ms\n",
    "delay = 10 #each key delayed for 10 ms before next key"
   ]
  },
  {
   "cell_type": "code",
   "execution_count": 39,
   "metadata": {},
   "outputs": [],
   "source": [
    "import pandas "
   ]
  },
  {
   "cell_type": "code",
   "execution_count": 40,
   "metadata": {},
   "outputs": [],
   "source": [
    "path_input = '.\\input.csv'\n",
    "path_output = '.\\output.csv'\n",
    "df_input = pandas.read_csv(path_input)\n"
   ]
  },
  {
   "cell_type": "code",
   "execution_count": 41,
   "metadata": {},
   "outputs": [
    {
     "data": {
      "text/html": [
       "<div>\n",
       "<style scoped>\n",
       "    .dataframe tbody tr th:only-of-type {\n",
       "        vertical-align: middle;\n",
       "    }\n",
       "\n",
       "    .dataframe tbody tr th {\n",
       "        vertical-align: top;\n",
       "    }\n",
       "\n",
       "    .dataframe thead th {\n",
       "        text-align: right;\n",
       "    }\n",
       "</style>\n",
       "<table border=\"1\" class=\"dataframe\">\n",
       "  <thead>\n",
       "    <tr style=\"text-align: right;\">\n",
       "      <th></th>\n",
       "      <th>output_falg</th>\n",
       "      <th>Stratagem_name</th>\n",
       "      <th>Stratagem_code</th>\n",
       "      <th>class_name</th>\n",
       "    </tr>\n",
       "  </thead>\n",
       "  <tbody>\n",
       "    <tr>\n",
       "      <th>0</th>\n",
       "      <td>0</td>\n",
       "      <td>Machine Gun (level 1)</td>\n",
       "      <td>Down&amp;Left&amp;Down&amp;Up&amp;Right</td>\n",
       "      <td>Patriotic Administration Center Stratagem Codes</td>\n",
       "    </tr>\n",
       "    <tr>\n",
       "      <th>1</th>\n",
       "      <td>0</td>\n",
       "      <td>Anti-Material Rifle (level 2)</td>\n",
       "      <td>Down&amp;Left&amp;Right&amp;Up&amp;Down</td>\n",
       "      <td>Patriotic Administration Center Stratagem Codes</td>\n",
       "    </tr>\n",
       "    <tr>\n",
       "      <th>2</th>\n",
       "      <td>0</td>\n",
       "      <td>Stalwart (level 2)</td>\n",
       "      <td>Down&amp;Left&amp;Down&amp;Up&amp;Up&amp;Left</td>\n",
       "      <td>Patriotic Administration Center Stratagem Codes</td>\n",
       "    </tr>\n",
       "    <tr>\n",
       "      <th>3</th>\n",
       "      <td>1</td>\n",
       "      <td>Expendable Anti-Tank (level 3)</td>\n",
       "      <td>Down&amp;Down&amp;Left&amp;Up&amp;Right</td>\n",
       "      <td>Patriotic Administration Center Stratagem Codes</td>\n",
       "    </tr>\n",
       "    <tr>\n",
       "      <th>4</th>\n",
       "      <td>2</td>\n",
       "      <td>Recoiled Rifle (level 5)</td>\n",
       "      <td>Down&amp;Left&amp;Right&amp;Right&amp;Left</td>\n",
       "      <td>Patriotic Administration Center Stratagem Codes</td>\n",
       "    </tr>\n",
       "  </tbody>\n",
       "</table>\n",
       "</div>"
      ],
      "text/plain": [
       "   output_falg                  Stratagem_name              Stratagem_code  \\\n",
       "0            0           Machine Gun (level 1)     Down&Left&Down&Up&Right   \n",
       "1            0   Anti-Material Rifle (level 2)     Down&Left&Right&Up&Down   \n",
       "2            0              Stalwart (level 2)   Down&Left&Down&Up&Up&Left   \n",
       "3            1  Expendable Anti-Tank (level 3)     Down&Down&Left&Up&Right   \n",
       "4            2        Recoiled Rifle (level 5)  Down&Left&Right&Right&Left   \n",
       "\n",
       "                                        class_name  \n",
       "0  Patriotic Administration Center Stratagem Codes  \n",
       "1  Patriotic Administration Center Stratagem Codes  \n",
       "2  Patriotic Administration Center Stratagem Codes  \n",
       "3  Patriotic Administration Center Stratagem Codes  \n",
       "4  Patriotic Administration Center Stratagem Codes  "
      ]
     },
     "execution_count": 41,
     "metadata": {},
     "output_type": "execute_result"
    }
   ],
   "source": [
    "df_input.head()"
   ]
  },
  {
   "cell_type": "code",
   "execution_count": 42,
   "metadata": {},
   "outputs": [],
   "source": [
    "path_json = '.\\mf17.layout.json'\n",
    "import json\n",
    " \n",
    "# Opening JSON file\n",
    "f = open(path_json)\n",
    " \n",
    "# returns JSON object as \n",
    "# a dictionary\n",
    "data_json = json.load(f)\n",
    " \n",
    "# Closing file\n",
    "f.close()"
   ]
  },
  {
   "cell_type": "code",
   "execution_count": 43,
   "metadata": {},
   "outputs": [
    {
     "name": "stdout",
     "output_type": "stream",
     "text": [
      "{+KC_LCTL}{10}{+KC_DOWN}{60}{-KC_DOWN}{10}{+KC_DOWN}{60}{-KC_DOWN}{10}{+KC_LEFT}{60}{-KC_LEFT}{10}{+KC_UP}{60}{-KC_UP}{10}{+KC_RGHT}{60}{-KC_RGHT}{-KC_LCTL}{10}\n"
     ]
    }
   ],
   "source": [
    "print(data_json['macros'][0])"
   ]
  },
  {
   "cell_type": "code",
   "execution_count": 44,
   "metadata": {},
   "outputs": [
    {
     "data": {
      "text/plain": [
       "'{1}&{3}&{4}&{2}&{1}'"
      ]
     },
     "execution_count": 44,
     "metadata": {},
     "output_type": "execute_result"
    }
   ],
   "source": [
    "def raw_code_formater(raw_code):\n",
    "    dict1 = {\n",
    "        \"Down\":\"{1}\",\n",
    "        \"Up\":\"{2}\",\n",
    "        \"Left\":\"{3}\",\n",
    "        \"Right\":\"{4}\"\n",
    "    }\n",
    "    formated_code = raw_code\n",
    "    for item in dict1:\n",
    "        formated_code = formated_code.replace(item,dict1[item])\n",
    "    return(formated_code)\n",
    "#testing\n",
    "raw_code_formater(df_input['Stratagem_code'][1])\n"
   ]
  },
  {
   "cell_type": "code",
   "execution_count": 45,
   "metadata": {},
   "outputs": [],
   "source": [
    "def convert_2_macro(raw_code,key_length,delay):\n",
    "    dict_converter = {\n",
    "        'string_down1' : ('{1}','{+KC_DOWN}'+'{'+str(key_length)+'}'+'{-KC_DOWN}'),\n",
    "        'string_up2' : ('{2}','{+KC_UP}'+'{'+str(key_length)+'}'+'{-KC_UP}'),\n",
    "        'string_left3' : ('{3}','{+KC_LEFT}'+'{'+str(key_length)+'}'+'{-KC_LEFT}'),\n",
    "        'string_right4' : ('{4}','{+KC_RGHT}'+'{'+str(key_length)+'}'+'{-KC_RGHT}'),\n",
    "        '&' : ('&','{'+str(delay)+'}')\n",
    "    }\n",
    "    macro = raw_code_formater(raw_code)\n",
    "    for item in dict_converter:\n",
    "        macro = macro.replace(dict_converter[item][0],dict_converter[item][1])\n",
    "    return(macro)"
   ]
  },
  {
   "cell_type": "code",
   "execution_count": 46,
   "metadata": {},
   "outputs": [],
   "source": [
    "counts_row = df_input['Stratagem_name'].count()\n",
    "df_output = pandas.DataFrame()\n",
    "macro_list =[]\n",
    "for i in range(0,counts_row):\n",
    "    raw_codes = df_input['Stratagem_code'][i]\n",
    "    macro = convert_2_macro(raw_codes,key_length,delay)\n",
    "    macro = '{+KC_LCTL}{10}'+macro+'{-KC_LCTL}{10}'\n",
    "    macro_list.append(macro)\n",
    "df_input['macro'] = macro_list"
   ]
  },
  {
   "cell_type": "code",
   "execution_count": 47,
   "metadata": {},
   "outputs": [
    {
     "name": "stdout",
     "output_type": "stream",
     "text": [
      "<class 'pandas.core.frame.DataFrame'>\n",
      "RangeIndex: 51 entries, 0 to 50\n",
      "Data columns (total 5 columns):\n",
      " #   Column          Non-Null Count  Dtype \n",
      "---  ------          --------------  ----- \n",
      " 0   output_falg     51 non-null     int64 \n",
      " 1   Stratagem_name  51 non-null     object\n",
      " 2   Stratagem_code  51 non-null     object\n",
      " 3   class_name      51 non-null     object\n",
      " 4   macro           51 non-null     object\n",
      "dtypes: int64(1), object(4)\n",
      "memory usage: 2.1+ KB\n"
     ]
    }
   ],
   "source": [
    "df_input.info()"
   ]
  },
  {
   "cell_type": "code",
   "execution_count": 48,
   "metadata": {},
   "outputs": [],
   "source": [
    "code_df = df_input.loc[df_input['output_falg'] > 0]\n",
    "code_df.reset_index(inplace=True,drop=True)\n",
    "for i in range (0,code_df['macro'].count()):\n",
    "    data_json['macros'][i] = code_df['macro'][i]\n",
    "\n"
   ]
  },
  {
   "cell_type": "code",
   "execution_count": 49,
   "metadata": {},
   "outputs": [],
   "source": [
    "data_json\n",
    "with open(path_json, 'w') as f:\n",
    "    json.dump(data_json, f)"
   ]
  },
  {
   "cell_type": "code",
   "execution_count": null,
   "metadata": {},
   "outputs": [],
   "source": []
  }
 ],
 "metadata": {
  "kernelspec": {
   "display_name": "base",
   "language": "python",
   "name": "python3"
  },
  "language_info": {
   "codemirror_mode": {
    "name": "ipython",
    "version": 3
   },
   "file_extension": ".py",
   "mimetype": "text/x-python",
   "name": "python",
   "nbconvert_exporter": "python",
   "pygments_lexer": "ipython3",
   "version": "3.11.7"
  }
 },
 "nbformat": 4,
 "nbformat_minor": 2
}
